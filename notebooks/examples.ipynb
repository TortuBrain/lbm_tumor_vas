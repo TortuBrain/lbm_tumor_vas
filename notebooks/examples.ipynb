{
 "cells": [
  {
   "cell_type": "code",
   "execution_count": 1,
   "id": "05be4a59",
   "metadata": {},
   "outputs": [
    {
     "data": {
      "application/vnd.jupyter.widget-view+json": {
       "model_id": "0da71390a45049e0b08277fabc2e2804",
       "version_major": 2,
       "version_minor": 0
      },
      "text/plain": [
       "  0%|          | 0/5578 [00:00<?, ? MB/s]"
      ]
     },
     "metadata": {},
     "output_type": "display_data"
    },
    {
     "data": {
      "application/vnd.jupyter.widget-view+json": {
       "model_id": "84bc7b48edaa4892804f71dbfccb9b94",
       "version_major": 2,
       "version_minor": 0
      },
      "text/plain": [
       "  0%|          | 0/1 [00:00<?, ? MB/s]"
      ]
     },
     "metadata": {},
     "output_type": "display_data"
    },
    {
     "data": {
      "application/vnd.jupyter.widget-view+json": {
       "model_id": "0fae9792d8f645fd9e3306a194c6d3c0",
       "version_major": 2,
       "version_minor": 0
      },
      "text/plain": [
       "  0%|          | 0/1 [00:00<?, ? MB/s]"
      ]
     },
     "metadata": {},
     "output_type": "display_data"
    },
    {
     "data": {
      "application/vnd.jupyter.widget-view+json": {
       "model_id": "55a2f2adc2c64502b47106fdcafcd2f6",
       "version_major": 2,
       "version_minor": 0
      },
      "text/plain": [
       "  0%|          | 0/4 [00:00<?, ? MB/s]"
      ]
     },
     "metadata": {},
     "output_type": "display_data"
    },
    {
     "data": {
      "application/vnd.jupyter.widget-view+json": {
       "model_id": "9578424df2e94314b76b05e981af47b1",
       "version_major": 2,
       "version_minor": 0
      },
      "text/plain": [
       "  0%|          | 0/1 [00:00<?, ? MB/s]"
      ]
     },
     "metadata": {},
     "output_type": "display_data"
    },
    {
     "data": {
      "application/vnd.jupyter.widget-view+json": {
       "model_id": "5ee1d2ddcb394e9b94432d639fad04ad",
       "version_major": 2,
       "version_minor": 0
      },
      "text/plain": [
       "  0%|          | 0/7 [00:00<?, ? MB/s]"
      ]
     },
     "metadata": {},
     "output_type": "display_data"
    },
    {
     "data": {
      "application/vnd.jupyter.widget-view+json": {
       "model_id": "f4992b861ca548ecbf9c30931bd8e84a",
       "version_major": 2,
       "version_minor": 0
      },
      "text/plain": [
       "  0%|          | 0/12 [00:00<?, ? MB/s]"
      ]
     },
     "metadata": {},
     "output_type": "display_data"
    },
    {
     "data": {
      "application/vnd.jupyter.widget-view+json": {
       "model_id": "548ae4d458584510b9ffc9de5544c57b",
       "version_major": 2,
       "version_minor": 0
      },
      "text/plain": [
       "  0%|          | 0/8 [00:00<?, ? MB/s]"
      ]
     },
     "metadata": {},
     "output_type": "display_data"
    }
   ],
   "source": [
    "import matplotlib.pyplot as plt\n",
    "import numpy as np\n",
    "import ssl\n",
    "from dipy.core.gradients import gradient_table\n",
    "from dipy.data import get_fnames, default_sphere\n",
    "from dipy.direction import DeterministicMaximumDirectionGetter\n",
    "from dipy.io.gradients import read_bvals_bvecs\n",
    "from dipy.io.image import load_nifti, load_nifti_data\n",
    "from dipy.io.streamline import save_trk\n",
    "from dipy.io.stateful_tractogram import Space, StatefulTractogram\n",
    "from dipy.reconst.csdeconv import (ConstrainedSphericalDeconvModel,\n",
    "                                   auto_response_ssst)\n",
    "from dipy.reconst.dti import fractional_anisotropy, TensorModel\n",
    "from dipy.tracking import utils\n",
    "from dipy.tracking.local_tracking import LocalTracking\n",
    "from dipy.tracking.streamline import Streamlines\n",
    "from dipy.tracking.stopping_criterion import (ActStoppingCriterion,\n",
    "                                              BinaryStoppingCriterion,\n",
    "                                              ThresholdStoppingCriterion)\n",
    "from dipy.viz import window, actor, colormap, has_fury\n",
    "\n",
    "# Enables/disables interactive visualization\n",
    "interactive = False\n",
    "\n",
    "hardi_fname, hardi_bval_fname, hardi_bvec_fname = get_fnames('stanford_hardi')\n",
    "label_fname = get_fnames('stanford_labels')\n",
    "_, _, f_pve_wm = get_fnames('stanford_pve_maps')\n",
    "\n",
    "data, affine, hardi_img = load_nifti(hardi_fname, return_img=True)\n",
    "labels = load_nifti_data(label_fname)\n",
    "bvals, bvecs = read_bvals_bvecs(hardi_bval_fname, hardi_bvec_fname)\n",
    "gtab = gradient_table(bvals, bvecs)\n",
    "\n",
    "white_matter = load_nifti_data(f_pve_wm)\n",
    "\n",
    "seed_mask = (labels == 2)\n",
    "seed_mask[white_matter < 0.5] = 0\n",
    "seeds = utils.seeds_from_mask(seed_mask, affine, density=2)\n",
    "\n",
    "response, ratio = auto_response_ssst(gtab, data, roi_radii=10, fa_thr=0.7)\n",
    "csd_model = ConstrainedSphericalDeconvModel(gtab, response)\n",
    "csd_fit = csd_model.fit(data, mask=white_matter)\n",
    "\n",
    "dg = DeterministicMaximumDirectionGetter.from_shcoeff(csd_fit.shm_coeff,\n",
    "                                                      max_angle=30.,\n",
    "                                                      sphere=default_sphere)"
   ]
  },
  {
   "cell_type": "code",
   "execution_count": 3,
   "id": "8a31057c",
   "metadata": {},
   "outputs": [],
   "source": [
    "tensor_model = TensorModel(gtab)\n",
    "tenfit = tensor_model.fit(data, mask=labels > 0)\n",
    "FA = fractional_anisotropy(tenfit.evals)\n",
    "\n",
    "threshold_criterion = ThresholdStoppingCriterion(FA, .2)"
   ]
  },
  {
   "cell_type": "code",
   "execution_count": 4,
   "id": "41171053",
   "metadata": {},
   "outputs": [],
   "source": [
    "streamline_generator = LocalTracking(dg,\n",
    "                                     threshold_criterion,\n",
    "                                     seeds,\n",
    "                                     affine,\n",
    "                                     step_size=1,\n",
    "                                     return_all=True)\n",
    "streamlines = Streamlines(streamline_generator)"
   ]
  },
  {
   "cell_type": "code",
   "execution_count": 5,
   "id": "6121bc6b",
   "metadata": {},
   "outputs": [
    {
     "data": {
      "text/plain": [
       "ArraySequence([array([[ -5.46250142, -38.75908845,   5.41959979],\n",
       "       [ -4.5       , -38.5       ,   5.5       ],\n",
       "       [ -3.53749858, -38.24091155,   5.58040021],\n",
       "       [ -2.57499716, -37.98182311,   5.66080042],\n",
       "       [ -1.58800768, -37.85785566,   5.76319107],\n",
       "       [ -0.60101821, -37.7338882 ,   5.86558171],\n",
       "       [  0.39816967, -37.69533075,   5.85388116]]), array([[ -4.46250142, -38.75908845,   5.41959979],\n",
       "       [ -3.5       , -38.5       ,   5.5       ],\n",
       "       [ -2.53749858, -38.24091155,   5.58040021],\n",
       "       [ -1.5505091 , -38.1169441 ,   5.68279085],\n",
       "       [ -0.56351963, -37.99297665,   5.7851815 ],\n",
       "       [  0.43566825, -37.9544192 ,   5.77348095]]), array([[-27.99553184, -46.37492397,   1.39705033],\n",
       "       [-27.19459016, -45.84251797,   1.67097783],\n",
       "       [-26.38618245, -45.27103484,   1.81198852],\n",
       "       [-25.58524077, -44.73862884,   2.08591602],\n",
       "       [-24.78429909, -44.20622284,   2.35984352],\n",
       "       [-23.98335741, -43.67381684,   2.63377101],\n",
       "       [-23.18241573, -43.14141083,   2.90769851],\n",
       "       [-22.44091019, -42.71567874,   3.42627514],\n",
       "       [-21.75056199, -42.35933704,   4.05590991],\n",
       "       [-21.06021379, -42.00299533,   4.68554469],\n",
       "       [-20.31870825, -41.57726324,   5.20412132],\n",
       "       [-19.57720271, -41.15153114,   5.72269794],\n",
       "       [-18.79891252, -40.66729684,   6.12242476],\n",
       "       [-17.92546182, -40.21033796,   6.29056888],\n",
       "       [-17.00681384, -39.81943668,   6.34785841],\n",
       "       [-16.08816587, -39.42853539,   6.40514793],\n",
       "       [-15.13560676, -39.12917412,   6.3502483 ],\n",
       "       [-14.21652773, -38.78531594,   6.15775079],\n",
       "       [-13.25141693, -38.79758467,   5.89619657],\n",
       "       [-12.28630612, -38.8098534 ,   5.63464236],\n",
       "       [-11.32119531, -38.82212212,   5.37308814],\n",
       "       [-10.33625347, -38.73638018,   5.22296189],\n",
       "       [ -9.3515409 , -38.56547307,   5.18931792],\n",
       "       [ -8.39898179, -38.2661118 ,   5.13441829],\n",
       "       [ -7.43648037, -38.00702335,   5.2148185 ],\n",
       "       [ -6.4494909 , -37.8830559 ,   5.31720915],\n",
       "       [ -5.46250142, -37.75908845,   5.41959979],\n",
       "       [ -4.5       , -37.5       ,   5.5       ],\n",
       "       [ -3.53749858, -37.24091155,   5.58040021],\n",
       "       [ -2.57499716, -36.98182311,   5.66080042],\n",
       "       [ -1.58800768, -36.85785566,   5.76319107],\n",
       "       [ -0.60101821, -36.7338882 ,   5.86558171],\n",
       "       [  0.39816967, -36.69533075,   5.85388116]]), ..., array([[ 12.65295006,  59.66405974,  19.64587124],\n",
       "       [ 12.88541175,  58.84058888,  19.12832192],\n",
       "       [ 13.11787345,  58.01711802,  18.61077259],\n",
       "       [ 13.35033515,  57.19364715,  18.09322327],\n",
       "       [ 13.58279684,  56.37017629,  17.57567395],\n",
       "       [ 13.90252582,  55.51841433,  17.16061378],\n",
       "       [ 14.2222548 ,  54.66665237,  16.74555361],\n",
       "       [ 14.54198378,  53.81489041,  16.33049344],\n",
       "       [ 14.86171276,  52.96312845,  15.91543328],\n",
       "       [ 15.18144174,  52.11136649,  15.50037311],\n",
       "       [ 15.50117072,  51.25960453,  15.08531294],\n",
       "       [ 15.94132085,  50.44905868,  14.69894098],\n",
       "       [ 16.38147098,  49.63851283,  14.31256902],\n",
       "       [ 16.82162111,  48.82796699,  13.92619707],\n",
       "       [ 17.19394132,  48.05495088,  13.41255929],\n",
       "       [ 17.63409145,  47.24440503,  13.02618733],\n",
       "       [ 17.95382043,  46.39264307,  12.61112717],\n",
       "       [ 18.2735494 ,  45.54088111,  12.196067  ],\n",
       "       [ 18.59327838,  44.68911915,  11.78100683],\n",
       "       [ 18.91300736,  43.83735719,  11.36594666],\n",
       "       [ 19.11034891,  42.93978874,  10.97170412],\n",
       "       [ 19.27428648,  41.99300623,  10.69470708],\n",
       "       [ 19.30894041,  41.02174202,  10.4592396 ],\n",
       "       [ 19.20418747,  40.04700198,  10.26198674],\n",
       "       [ 18.97416277,  39.08412912,  10.12069101],\n",
       "       [ 18.62572387,  38.15037441,  10.03888351],\n",
       "       [ 18.0547873 ,  37.33003562,  10.07168151],\n",
       "       [ 17.37384252,  36.60117339,  10.14291391],\n",
       "       [ 16.60234593,  35.96715613,  10.19597163],\n",
       "       [ 15.83084934,  35.33313886,  10.24902935],\n",
       "       [ 15.05935275,  34.6991216 ,  10.30208707],\n",
       "       [ 14.22036532,  34.16382345,  10.39984176],\n",
       "       [ 13.38137789,  33.62852529,  10.49759644],\n",
       "       [ 12.6098813 ,  32.99450803,  10.55065416],\n",
       "       [ 11.77089387,  32.45920988,  10.64840885],\n",
       "       [ 10.86734516,  32.03735919,  10.72352025],\n",
       "       [  9.96379645,  31.6155085 ,  10.79863165],\n",
       "       [  9.06024774,  31.1936578 ,  10.87374304],\n",
       "       [  8.10768863,  30.89429653,  10.92864268],\n",
       "       [  7.1886096 ,  30.55043835,  11.12114019],\n",
       "       [  6.26953057,  30.20658017,  11.31363769],\n",
       "       [  5.30844904,  29.99015067,  11.48533674],\n",
       "       [  4.34736751,  29.77372117,  11.65703578],\n",
       "       [  3.38628598,  29.55729167,  11.82873483],\n",
       "       [  2.42520445,  29.34086217,  12.00043387],\n",
       "       [  1.46009364,  29.35313089,  12.26198809],\n",
       "       [  0.5       ,  29.5       ,  12.5       ],\n",
       "       [ -0.46009364,  29.64686911,  12.73801191],\n",
       "       [ -1.42018728,  29.79373821,  12.97602382],\n",
       "       [ -2.38028092,  29.94060732,  13.21403573],\n",
       "       [ -3.34037456,  30.08747643,  13.45204764],\n",
       "       [ -4.27743206,  30.36856542,  13.65920027],\n",
       "       [ -5.21448957,  30.64965441,  13.86635291],\n",
       "       [ -6.15154707,  30.93074339,  14.07350555],\n",
       "       [ -7.08860457,  31.21183238,  14.28065818],\n",
       "       [ -7.97049952,  31.59453231,  14.55597995],\n",
       "       [ -8.80478515,  32.0963757 ,  14.78427954],\n",
       "       [ -9.63907078,  32.59821908,  15.01257914],\n",
       "       [-10.39125341,  33.19645549,  15.28886609],\n",
       "       [-11.15430274,  33.82601358,  15.43519565],\n",
       "       [-11.91735207,  34.45557167,  15.58152521],\n",
       "       [-12.68040139,  35.08512975,  15.72785477],\n",
       "       [-13.38620489,  35.79225749,  15.77041981],\n",
       "       [-14.17850411,  36.40239   ,  15.77094199],\n",
       "       [-14.88430761,  37.10951774,  15.81350703],\n",
       "       [-15.5183672 ,  37.88047449,  15.75355595],\n",
       "       [-15.77695571,  38.82808083,  15.94110382],\n",
       "       [-15.70690915,  39.76927592,  16.27162656],\n",
       "       [-15.6368626 ,  40.71047101,  16.6021493 ],\n",
       "       [-15.56681604,  41.65166609,  16.93267205],\n",
       "       [-15.39817275,  42.5436902 ,  17.35201969],\n",
       "       [-15.22952947,  43.4357143 ,  17.77136733],\n",
       "       [-14.92952645,  44.31509375,  18.1410834 ],\n",
       "       [-14.62952343,  45.1944732 ,  18.51079947],\n",
       "       [-14.23459218,  45.99957221,  18.95334312],\n",
       "       [-13.83966094,  46.80467123,  19.39588677],\n",
       "       [-13.44472969,  47.60977025,  19.83843043],\n",
       "       [-13.04979844,  48.41486926,  20.28097408],\n",
       "       [-12.6548672 ,  49.21996828,  20.72351773],\n",
       "       [-12.39027903,  50.04613049,  21.2209603 ],\n",
       "       [-12.16777858,  50.8024308 ,  21.83618658],\n",
       "       [-12.08241865,  51.5511009 ,  22.49361092],\n",
       "       [-11.90959415,  52.22136983,  23.21532503],\n",
       "       [-11.65258231,  52.80339446,  23.98681207],\n",
       "       [-11.25520323,  53.37616353,  24.70376776],\n",
       "       [-10.85782415,  53.9489326 ,  25.42072345],\n",
       "       [-10.43469957,  54.7999589 ,  25.73172157],\n",
       "       [ -9.6875074 ,  55.46044818,  25.80559824],\n",
       "       [ -9.03139998,  56.21317131,  25.85973644],\n",
       "       [ -8.37529256,  56.96589444,  25.91387464],\n",
       "       [ -7.71918514,  57.71861757,  25.96801283]]), array([[ 12.48550936,  57.20630306,  18.17338447],\n",
       "       [ 12.80660721,  56.30630346,  17.87860168],\n",
       "       [ 13.12633619,  55.4545415 ,  17.46354151],\n",
       "       [ 13.44606517,  54.60277954,  17.04848134],\n",
       "       [ 13.76579415,  53.75101758,  16.63342117],\n",
       "       [ 13.99825584,  52.92754672,  16.11587185],\n",
       "       [ 14.1877278 ,  52.23937896,  15.41549659],\n",
       "       [ 14.50882565,  51.33937936,  15.12071379],\n",
       "       [ 14.94897578,  50.52883351,  14.73434183],\n",
       "       [ 15.38912591,  49.71828766,  14.34796988],\n",
       "       [ 15.88655858,  48.99785098,  13.86471867],\n",
       "       [ 16.38399126,  48.27741431,  13.38146747],\n",
       "       [ 16.88142394,  47.55697763,  12.89821627],\n",
       "       [ 17.32157407,  46.74643178,  12.51184431],\n",
       "       [ 17.7617242 ,  45.93588593,  12.12547236],\n",
       "       [ 18.08145318,  45.08412397,  11.71041219],\n",
       "       [ 18.40118216,  44.23236201,  11.29535202],\n",
       "       [ 18.72091114,  43.38060005,  10.88029185],\n",
       "       [ 18.8848487 ,  42.43381754,  10.60329481],\n",
       "       [ 19.04878627,  41.48703504,  10.32629777],\n",
       "       [ 19.0834402 ,  40.51577082,  10.09083029],\n",
       "       [ 18.97868727,  39.54103079,   9.89357743],\n",
       "       [ 18.63024836,  38.60727608,   9.81176993],\n",
       "       [ 18.16870577,  37.72044035,   9.78939078],\n",
       "       [ 17.48776099,  36.99157812,   9.86062318],\n",
       "       [ 16.7162644 ,  36.35756086,   9.9136809 ],\n",
       "       [ 15.94476781,  35.72354359,   9.96673862],\n",
       "       [ 15.10578038,  35.18824544,  10.0644933 ],\n",
       "       [ 14.26679295,  34.65294729,  10.16224799],\n",
       "       [ 13.42780552,  34.11764914,  10.26000268],\n",
       "       [ 12.58881808,  33.58235099,  10.35775736],\n",
       "       [ 11.74983065,  33.04705283,  10.45551205],\n",
       "       [ 10.84628194,  32.62520214,  10.53062345],\n",
       "       [  9.94273323,  32.20335145,  10.60573485],\n",
       "       [  9.03918452,  31.78150076,  10.68084625],\n",
       "       [  8.08662541,  31.48213949,  10.73574588],\n",
       "       [  7.16754638,  31.13828131,  10.92824339],\n",
       "       [  6.24846735,  30.79442313,  11.12074089],\n",
       "       [  5.28738582,  30.57799363,  11.29243994],\n",
       "       [  4.32630429,  30.36156413,  11.46413898],\n",
       "       [  3.36522276,  30.14513463,  11.63583803],\n",
       "       [  2.38028092,  30.05939268,  11.78596427],\n",
       "       [  1.42018728,  30.20626179,  12.02397618],\n",
       "       [  0.46009364,  30.35313089,  12.26198809],\n",
       "       [ -0.5       ,  30.5       ,  12.5       ],\n",
       "       [ -1.46009364,  30.64686911,  12.73801191],\n",
       "       [ -2.42018728,  30.79373821,  12.97602382],\n",
       "       [ -3.35724478,  31.0748272 ,  13.18317646],\n",
       "       [ -4.29430229,  31.35591619,  13.39032909],\n",
       "       [ -5.23135979,  31.63700518,  13.59748173],\n",
       "       [ -6.16841729,  31.91809417,  13.80463436],\n",
       "       [ -7.1054748 ,  32.19918316,  14.011787  ],\n",
       "       [ -7.98736974,  32.58188309,  14.28710877],\n",
       "       [ -8.82165537,  33.08372647,  14.51540836],\n",
       "       [ -9.57383801,  33.68196288,  14.79169532],\n",
       "       [-10.33688733,  34.31152097,  14.93802487],\n",
       "       [-11.09993666,  34.94107905,  15.08435443],\n",
       "       [-11.86298599,  35.57063714,  15.23068399],\n",
       "       [-12.56878949,  36.27776488,  15.27324903],\n",
       "       [-13.29810565,  36.95447045,  15.17241498],\n",
       "       [-13.93216524,  37.7254272 ,  15.1124639 ],\n",
       "       [-14.56622483,  38.49638394,  15.05251282],\n",
       "       [-15.20028442,  39.26734069,  14.99256173],\n",
       "       [-15.45887293,  40.21494703,  15.1801096 ],\n",
       "       [-15.49352686,  41.18621125,  15.41557708],\n",
       "       [-15.4234803 ,  42.12740633,  15.74609982],\n",
       "       [-15.35343375,  43.06860142,  16.07662256],\n",
       "       [-15.150425  ,  44.00488078,  16.36327289],\n",
       "       [-14.94741625,  44.94116014,  16.64992322],\n",
       "       [-14.64741323,  45.82053959,  17.01963929],\n",
       "       [-14.25248198,  46.62563861,  17.46218295],\n",
       "       [-13.85755074,  47.43073762,  17.9047266 ],\n",
       "       [-13.37102322,  48.14495401,  18.40790244],\n",
       "       [-12.8844957 ,  48.85917041,  18.91107827],\n",
       "       [-12.39796819,  49.5733868 ,  19.41425411],\n",
       "       [-11.91144067,  50.28760319,  19.91742994],\n",
       "       [-11.55398792,  51.03252751,  20.48073739],\n",
       "       [-11.50891894,  51.6773933 ,  21.24370325],\n",
       "       [-11.46384996,  52.32225909,  22.00666911],\n",
       "       [-11.29102546,  52.99252802,  22.72838322],\n",
       "       [-11.03401363,  53.57455265,  23.49987026],\n",
       "       [-10.63663455,  54.14732171,  24.21682595],\n",
       "       [-10.00733057,  54.85817316,  24.53093857],\n",
       "       [ -9.2601384 ,  55.51866244,  24.60481525],\n",
       "       [ -8.51294622,  56.17915172,  24.67869193],\n",
       "       [ -7.60993361,  56.46062013,  25.00325894]]), array([[  2.42018728,  30.20626179,  12.02397618],\n",
       "       [  1.46009364,  30.35313089,  12.26198809],\n",
       "       [  0.5       ,  30.5       ,  12.5       ],\n",
       "       [ -0.46009364,  30.64686911,  12.73801191],\n",
       "       [ -1.42018728,  30.79373821,  12.97602382],\n",
       "       [ -2.38028092,  30.94060732,  13.21403573],\n",
       "       [ -3.31733842,  31.22169631,  13.42118836],\n",
       "       [ -4.25439593,  31.5027853 ,  13.628341  ],\n",
       "       [ -5.19145343,  31.78387429,  13.83549364],\n",
       "       [ -6.12851093,  32.06496328,  14.04264627],\n",
       "       [ -7.06556844,  32.34605227,  14.24979891],\n",
       "       [ -7.94746338,  32.72875219,  14.52512067],\n",
       "       [ -8.78174901,  33.23059558,  14.75342027],\n",
       "       [ -9.53393165,  33.82883199,  15.02970722],\n",
       "       [-10.29698097,  34.45839007,  15.17603678],\n",
       "       [-11.0600303 ,  35.08794816,  15.32236634],\n",
       "       [-11.82307963,  35.71750625,  15.4686959 ],\n",
       "       [-12.55239579,  36.39421182,  15.36786185],\n",
       "       [-13.28171195,  37.07091739,  15.26702779],\n",
       "       [-13.91577154,  37.84187413,  15.20707671],\n",
       "       [-14.54983113,  38.61283088,  15.14712563],\n",
       "       [-15.10132691,  39.43132124,  14.98611027],\n",
       "       [-15.35991542,  40.37892758,  15.17365813],\n",
       "       [-15.28986887,  41.32012267,  15.50418088],\n",
       "       [-15.21982231,  42.26131776,  15.83470362],\n",
       "       [-15.14977575,  43.20251285,  16.16522636],\n",
       "       [-14.946767  ,  44.1387922 ,  16.45187669],\n",
       "       [-14.64676398,  45.01817165,  16.82159276],\n",
       "       [-14.34676097,  45.8975511 ,  17.19130883],\n",
       "       [-13.95182972,  46.70265012,  17.63385249],\n",
       "       [-13.55689847,  47.50774913,  18.07639614],\n",
       "       [-13.07037096,  48.22196553,  18.57957198],\n",
       "       [-12.58384344,  48.93618192,  19.08274781],\n",
       "       [-12.09731592,  49.65039831,  19.58592365],\n",
       "       [-11.61078841,  50.3646147 ,  20.08909948],\n",
       "       [-11.38828795,  51.12091502,  20.70432577],\n",
       "       [-11.34321898,  51.76578081,  21.46729163],\n",
       "       [-11.17039447,  52.43604973,  22.18900574],\n",
       "       [-10.91338264,  53.01807436,  22.96049277],\n",
       "       [-10.51600356,  53.59084343,  23.67744846],\n",
       "       [ -9.99167688,  54.12637929,  24.33947782],\n",
       "       [ -9.26251192,  54.77280702,  24.56408782],\n",
       "       [ -8.51531974,  55.4332963 ,  24.6379645 ],\n",
       "       [ -7.61230713,  55.71476472,  24.96253151],\n",
       "       [ -6.70929451,  55.99623314,  25.28709852]])])"
      ]
     },
     "execution_count": 5,
     "metadata": {},
     "output_type": "execute_result"
    }
   ],
   "source": [
    "streamlines"
   ]
  },
  {
   "cell_type": "code",
   "execution_count": 6,
   "id": "23c3bc87",
   "metadata": {},
   "outputs": [
    {
     "ename": "AttributeError",
     "evalue": "'dipy.tracking.stopping_criterion.ThresholdStopping' object has no attribute 'get'",
     "output_type": "error",
     "traceback": [
      "\u001b[0;31m---------------------------------------------------------------------------\u001b[0m",
      "\u001b[0;31mAttributeError\u001b[0m                            Traceback (most recent call last)",
      "\u001b[0;32m/var/folders/q8/9j5j_21x3hdf5qfvq4b4hcq00000gn/T/ipykernel_4133/3942471610.py\u001b[0m in \u001b[0;36m<module>\u001b[0;34m\u001b[0m\n\u001b[0;32m----> 1\u001b[0;31m \u001b[0mprint\u001b[0m\u001b[0;34m(\u001b[0m\u001b[0mthreshold_criterion\u001b[0m\u001b[0;34m.\u001b[0m\u001b[0mget\u001b[0m\u001b[0;34m(\u001b[0m\u001b[0;34m)\u001b[0m\u001b[0;34m)\u001b[0m\u001b[0;34m\u001b[0m\u001b[0;34m\u001b[0m\u001b[0m\n\u001b[0m",
      "\u001b[0;31mAttributeError\u001b[0m: 'dipy.tracking.stopping_criterion.ThresholdStopping' object has no attribute 'get'"
     ]
    }
   ],
   "source": [
    "print(threshold_criterion.get())"
   ]
  },
  {
   "cell_type": "code",
   "execution_count": null,
   "id": "dc0282a2",
   "metadata": {},
   "outputs": [],
   "source": []
  },
  {
   "cell_type": "code",
   "execution_count": 7,
   "id": "c6507071",
   "metadata": {},
   "outputs": [
    {
     "data": {
      "image/png": "[encoded data removed]",
      "text/plain": [
       "<Figure size 288x288 with 1 Axes>"
      ]
     },
     "metadata": {
      "needs_background": "light"
     },
     "output_type": "display_data"
    }
   ],
   "source": [
    "fig = plt.figure(figsize=(4,4))\n",
    "\n",
    "ax = fig.add_subplot(111, projection='3d')"
   ]
  },
  {
   "cell_type": "code",
   "execution_count": null,
   "id": "4a81feda",
   "metadata": {},
   "outputs": [],
   "source": []
  },
  {
   "cell_type": "code",
   "execution_count": 10,
   "id": "3b7b912f",
   "metadata": {},
   "outputs": [
    {
     "data": {
      "image/png": "[encoded data removed]",
      "text/plain": [
       "<Figure size 288x288 with 1 Axes>"
      ]
     },
     "metadata": {
      "needs_background": "light"
     },
     "output_type": "display_data"
    }
   ],
   "source": [
    "fig = plt.figure(figsize=(4,4))\n",
    "\n",
    "ax = fig.add_subplot(111, projection='3d')\n",
    "for stream in streamlines:\n",
    "    x,y,z=get_points(stream)\n",
    "    ax.plot(x,y,z)\n",
    "plt.show()"
   ]
  },
  {
   "cell_type": "code",
   "execution_count": 11,
   "id": "a8d56028",
   "metadata": {},
   "outputs": [
    {
     "data": {
      "text/plain": [
       "nibabel.streamlines.array_sequence.ArraySequence"
      ]
     },
     "execution_count": 11,
     "metadata": {},
     "output_type": "execute_result"
    }
   ],
   "source": [
    "type(streamlines)"
   ]
  },
  {
   "cell_type": "code",
   "execution_count": 12,
   "id": "15c10f86",
   "metadata": {},
   "outputs": [],
   "source": [
    "def get_points(array):\n",
    "    x=[]\n",
    "    y=[]\n",
    "    z=[]\n",
    "    for i in array:\n",
    "        x.append(i[0])\n",
    "        y.append(i[1])\n",
    "        z.append(i[2])\n",
    "    return np.array(x),np.array(y),np.array(z)"
   ]
  },
  {
   "cell_type": "code",
   "execution_count": 13,
   "id": "0c98e032",
   "metadata": {},
   "outputs": [],
   "source": [
    "from nibabel.streamlines import ArraySequence"
   ]
  },
  {
   "cell_type": "code",
   "execution_count": 14,
   "id": "d6c47f29",
   "metadata": {},
   "outputs": [],
   "source": [
    "def get_max_point_and_min_point(streamlines):\n",
    "    max_x=0\n",
    "    max_y=0\n",
    "    max_z=0\n",
    "    min_x=0\n",
    "    min_y=0\n",
    "    min_z=0\n",
    "    for stream in streamlines:\n",
    "        for point in stream:\n",
    "            if(point[0]>max_x):\n",
    "                max_x=point[0]\n",
    "            if(point[1]>max_y):\n",
    "                max_y=point[1]\n",
    "            if(point[2]>max_z):\n",
    "                max_z=point[2]\n",
    "            if(point[0]<min_x):\n",
    "                min_x=point[0]\n",
    "            if(point[1]<min_y):\n",
    "                min_y=point[1]\n",
    "            if(point[0]<min_z):\n",
    "                min_z=point[2]\n",
    "    return ([max_x,max_y,max_z],[min_x,min_y,min_z])"
   ]
  },
  {
   "cell_type": "code",
   "execution_count": 15,
   "id": "a8b0a436",
   "metadata": {},
   "outputs": [],
   "source": [
    "point=get_max_point_and_min_point(streamlines)"
   ]
  },
  {
   "cell_type": "code",
   "execution_count": 16,
   "id": "7d3dcf51",
   "metadata": {},
   "outputs": [
    {
     "data": {
      "text/plain": [
       "([63.348167134274945, 67.03252137489085, 72.47387382009939],\n",
       " [-58.973879111728664, -96.10674051159612, 25.287098523554178])"
      ]
     },
     "execution_count": 16,
     "metadata": {},
     "output_type": "execute_result"
    }
   ],
   "source": [
    "point"
   ]
  },
  {
   "cell_type": "code",
   "execution_count": 17,
   "id": "6e4417f9",
   "metadata": {},
   "outputs": [],
   "source": [
    "def sum_array_in_matrix(array, sum_array):\n",
    "    new_array=np.zeros_like(array)\n",
    "    for i in range(array.shape[0]):\n",
    "        new_array[i,:]=array[i,:]+sum_array\n",
    "    return new_array\n",
    "\n",
    "        "
   ]
  },
  {
   "cell_type": "code",
   "execution_count": 18,
   "id": "791ba011",
   "metadata": {},
   "outputs": [],
   "source": [
    "def normalize_streamlines(streamlines,sum_array):\n",
    "    new_streamlines=ArraySequence()\n",
    "    for stream in streamlines:\n",
    "        new_streamlines.append(sum_array_in_matrix(stream,sum_array).astype(int))\n",
    "    return new_streamlines\n",
    "    "
   ]
  },
  {
   "cell_type": "code",
   "execution_count": null,
   "id": "8d703042",
   "metadata": {},
   "outputs": [],
   "source": []
  },
  {
   "cell_type": "code",
   "execution_count": null,
   "id": "920e62ff",
   "metadata": {},
   "outputs": [],
   "source": []
  },
  {
   "cell_type": "code",
   "execution_count": 19,
   "id": "e78c51b1",
   "metadata": {},
   "outputs": [],
   "source": [
    "new=normalize_streamlines(streamlines,np.array([58.973879111728664, 96.10674051159612, 25.287098523554178]))"
   ]
  },
  {
   "cell_type": "code",
   "execution_count": 20,
   "id": "7d8a97f3",
   "metadata": {},
   "outputs": [
    {
     "data": {
      "text/plain": [
       "ArraySequence([array([[53, 57, 30],\n",
       "       [54, 57, 30],\n",
       "       [55, 57, 30],\n",
       "       [56, 58, 30],\n",
       "       [57, 58, 31],\n",
       "       [58, 58, 31],\n",
       "       [59, 58, 31]]), array([[54, 57, 30],\n",
       "       [55, 57, 30],\n",
       "       [56, 57, 30],\n",
       "       [57, 57, 30],\n",
       "       [58, 58, 31],\n",
       "       [59, 58, 31]]), array([[30, 49, 26],\n",
       "       [31, 50, 26],\n",
       "       [32, 50, 27],\n",
       "       [33, 51, 27],\n",
       "       [34, 51, 27],\n",
       "       [34, 52, 27],\n",
       "       [35, 52, 28],\n",
       "       [36, 53, 28],\n",
       "       [37, 53, 29],\n",
       "       [37, 54, 29],\n",
       "       [38, 54, 30],\n",
       "       [39, 54, 31],\n",
       "       [40, 55, 31],\n",
       "       [41, 55, 31],\n",
       "       [41, 56, 31],\n",
       "       [42, 56, 31],\n",
       "       [43, 56, 31],\n",
       "       [44, 57, 31],\n",
       "       [45, 57, 31],\n",
       "       [46, 57, 30],\n",
       "       [47, 57, 30],\n",
       "       [48, 57, 30],\n",
       "       [49, 57, 30],\n",
       "       [50, 57, 30],\n",
       "       [51, 58, 30],\n",
       "       [52, 58, 30],\n",
       "       [53, 58, 30],\n",
       "       [54, 58, 30],\n",
       "       [55, 58, 30],\n",
       "       [56, 59, 30],\n",
       "       [57, 59, 31],\n",
       "       [58, 59, 31],\n",
       "       [59, 59, 31]]), ..., array([[ 71, 155,  44],\n",
       "       [ 71, 154,  44],\n",
       "       [ 72, 154,  43],\n",
       "       [ 72, 153,  43],\n",
       "       [ 72, 152,  42],\n",
       "       [ 72, 151,  42],\n",
       "       [ 73, 150,  42],\n",
       "       [ 73, 149,  41],\n",
       "       [ 73, 149,  41],\n",
       "       [ 74, 148,  40],\n",
       "       [ 74, 147,  40],\n",
       "       [ 74, 146,  39],\n",
       "       [ 75, 145,  39],\n",
       "       [ 75, 144,  39],\n",
       "       [ 76, 144,  38],\n",
       "       [ 76, 143,  38],\n",
       "       [ 76, 142,  37],\n",
       "       [ 77, 141,  37],\n",
       "       [ 77, 140,  37],\n",
       "       [ 77, 139,  36],\n",
       "       [ 78, 139,  36],\n",
       "       [ 78, 138,  35],\n",
       "       [ 78, 137,  35],\n",
       "       [ 78, 136,  35],\n",
       "       [ 77, 135,  35],\n",
       "       [ 77, 134,  35],\n",
       "       [ 77, 133,  35],\n",
       "       [ 76, 132,  35],\n",
       "       [ 75, 132,  35],\n",
       "       [ 74, 131,  35],\n",
       "       [ 74, 130,  35],\n",
       "       [ 73, 130,  35],\n",
       "       [ 72, 129,  35],\n",
       "       [ 71, 129,  35],\n",
       "       [ 70, 128,  35],\n",
       "       [ 69, 128,  36],\n",
       "       [ 68, 127,  36],\n",
       "       [ 68, 127,  36],\n",
       "       [ 67, 127,  36],\n",
       "       [ 66, 126,  36],\n",
       "       [ 65, 126,  36],\n",
       "       [ 64, 126,  36],\n",
       "       [ 63, 125,  36],\n",
       "       [ 62, 125,  37],\n",
       "       [ 61, 125,  37],\n",
       "       [ 60, 125,  37],\n",
       "       [ 59, 125,  37],\n",
       "       [ 58, 125,  38],\n",
       "       [ 57, 125,  38],\n",
       "       [ 56, 126,  38],\n",
       "       [ 55, 126,  38],\n",
       "       [ 54, 126,  38],\n",
       "       [ 53, 126,  39],\n",
       "       [ 52, 127,  39],\n",
       "       [ 51, 127,  39],\n",
       "       [ 51, 127,  39],\n",
       "       [ 50, 128,  40],\n",
       "       [ 49, 128,  40],\n",
       "       [ 48, 129,  40],\n",
       "       [ 47, 129,  40],\n",
       "       [ 47, 130,  40],\n",
       "       [ 46, 131,  41],\n",
       "       [ 45, 131,  41],\n",
       "       [ 44, 132,  41],\n",
       "       [ 44, 133,  41],\n",
       "       [ 43, 133,  41],\n",
       "       [ 43, 134,  41],\n",
       "       [ 43, 135,  41],\n",
       "       [ 43, 136,  41],\n",
       "       [ 43, 137,  42],\n",
       "       [ 43, 138,  42],\n",
       "       [ 43, 139,  43],\n",
       "       [ 44, 140,  43],\n",
       "       [ 44, 141,  43],\n",
       "       [ 44, 142,  44],\n",
       "       [ 45, 142,  44],\n",
       "       [ 45, 143,  45],\n",
       "       [ 45, 144,  45],\n",
       "       [ 46, 145,  46],\n",
       "       [ 46, 146,  46],\n",
       "       [ 46, 146,  47],\n",
       "       [ 46, 147,  47],\n",
       "       [ 47, 148,  48],\n",
       "       [ 47, 148,  49],\n",
       "       [ 47, 149,  49],\n",
       "       [ 48, 150,  50],\n",
       "       [ 48, 150,  51],\n",
       "       [ 49, 151,  51],\n",
       "       [ 49, 152,  51],\n",
       "       [ 50, 153,  51],\n",
       "       [ 51, 153,  51]]), array([[ 71, 153,  43],\n",
       "       [ 71, 152,  43],\n",
       "       [ 72, 151,  42],\n",
       "       [ 72, 150,  42],\n",
       "       [ 72, 149,  41],\n",
       "       [ 72, 149,  41],\n",
       "       [ 73, 148,  40],\n",
       "       [ 73, 147,  40],\n",
       "       [ 73, 146,  40],\n",
       "       [ 74, 145,  39],\n",
       "       [ 74, 145,  39],\n",
       "       [ 75, 144,  38],\n",
       "       [ 75, 143,  38],\n",
       "       [ 76, 142,  37],\n",
       "       [ 76, 142,  37],\n",
       "       [ 77, 141,  36],\n",
       "       [ 77, 140,  36],\n",
       "       [ 77, 139,  36],\n",
       "       [ 77, 138,  35],\n",
       "       [ 78, 137,  35],\n",
       "       [ 78, 136,  35],\n",
       "       [ 77, 135,  35],\n",
       "       [ 77, 134,  35],\n",
       "       [ 77, 133,  35],\n",
       "       [ 76, 133,  35],\n",
       "       [ 75, 132,  35],\n",
       "       [ 74, 131,  35],\n",
       "       [ 74, 131,  35],\n",
       "       [ 73, 130,  35],\n",
       "       [ 72, 130,  35],\n",
       "       [ 71, 129,  35],\n",
       "       [ 70, 129,  35],\n",
       "       [ 69, 128,  35],\n",
       "       [ 68, 128,  35],\n",
       "       [ 68, 127,  35],\n",
       "       [ 67, 127,  36],\n",
       "       [ 66, 127,  36],\n",
       "       [ 65, 126,  36],\n",
       "       [ 64, 126,  36],\n",
       "       [ 63, 126,  36],\n",
       "       [ 62, 126,  36],\n",
       "       [ 61, 126,  37],\n",
       "       [ 60, 126,  37],\n",
       "       [ 59, 126,  37],\n",
       "       [ 58, 126,  37],\n",
       "       [ 57, 126,  38],\n",
       "       [ 56, 126,  38],\n",
       "       [ 55, 127,  38],\n",
       "       [ 54, 127,  38],\n",
       "       [ 53, 127,  38],\n",
       "       [ 52, 128,  39],\n",
       "       [ 51, 128,  39],\n",
       "       [ 50, 128,  39],\n",
       "       [ 50, 129,  39],\n",
       "       [ 49, 129,  40],\n",
       "       [ 48, 130,  40],\n",
       "       [ 47, 131,  40],\n",
       "       [ 47, 131,  40],\n",
       "       [ 46, 132,  40],\n",
       "       [ 45, 133,  40],\n",
       "       [ 45, 133,  40],\n",
       "       [ 44, 134,  40],\n",
       "       [ 43, 135,  40],\n",
       "       [ 43, 136,  40],\n",
       "       [ 43, 137,  40],\n",
       "       [ 43, 138,  41],\n",
       "       [ 43, 139,  41],\n",
       "       [ 43, 140,  41],\n",
       "       [ 44, 141,  41],\n",
       "       [ 44, 141,  42],\n",
       "       [ 44, 142,  42],\n",
       "       [ 45, 143,  43],\n",
       "       [ 45, 144,  43],\n",
       "       [ 46, 144,  44],\n",
       "       [ 46, 145,  44],\n",
       "       [ 47, 146,  45],\n",
       "       [ 47, 147,  45],\n",
       "       [ 47, 147,  46],\n",
       "       [ 47, 148,  47],\n",
       "       [ 47, 149,  48],\n",
       "       [ 47, 149,  48],\n",
       "       [ 48, 150,  49],\n",
       "       [ 48, 150,  49],\n",
       "       [ 49, 151,  49],\n",
       "       [ 50, 152,  49],\n",
       "       [ 51, 152,  50]]), array([[ 61, 126,  37],\n",
       "       [ 60, 126,  37],\n",
       "       [ 59, 126,  37],\n",
       "       [ 58, 126,  38],\n",
       "       [ 57, 126,  38],\n",
       "       [ 56, 127,  38],\n",
       "       [ 55, 127,  38],\n",
       "       [ 54, 127,  38],\n",
       "       [ 53, 127,  39],\n",
       "       [ 52, 128,  39],\n",
       "       [ 51, 128,  39],\n",
       "       [ 51, 128,  39],\n",
       "       [ 50, 129,  40],\n",
       "       [ 49, 129,  40],\n",
       "       [ 48, 130,  40],\n",
       "       [ 47, 131,  40],\n",
       "       [ 47, 131,  40],\n",
       "       [ 46, 132,  40],\n",
       "       [ 45, 133,  40],\n",
       "       [ 45, 133,  40],\n",
       "       [ 44, 134,  40],\n",
       "       [ 43, 135,  40],\n",
       "       [ 43, 136,  40],\n",
       "       [ 43, 137,  40],\n",
       "       [ 43, 138,  41],\n",
       "       [ 43, 139,  41],\n",
       "       [ 44, 140,  41],\n",
       "       [ 44, 141,  42],\n",
       "       [ 44, 142,  42],\n",
       "       [ 45, 142,  42],\n",
       "       [ 45, 143,  43],\n",
       "       [ 45, 144,  43],\n",
       "       [ 46, 145,  44],\n",
       "       [ 46, 145,  44],\n",
       "       [ 47, 146,  45],\n",
       "       [ 47, 147,  45],\n",
       "       [ 47, 147,  46],\n",
       "       [ 47, 148,  47],\n",
       "       [ 48, 149,  48],\n",
       "       [ 48, 149,  48],\n",
       "       [ 48, 150,  49],\n",
       "       [ 49, 150,  49],\n",
       "       [ 50, 151,  49],\n",
       "       [ 51, 151,  50],\n",
       "       [ 52, 152,  50]])])"
      ]
     },
     "execution_count": 20,
     "metadata": {},
     "output_type": "execute_result"
    }
   ],
   "source": [
    "new"
   ]
  },
  {
   "cell_type": "code",
   "execution_count": 21,
   "id": "fce3b8ae",
   "metadata": {},
   "outputs": [
    {
     "data": {
      "image/png": "[encoded data removed]",
      "text/plain": [
       "<Figure size 288x288 with 1 Axes>"
      ]
     },
     "metadata": {
      "needs_background": "light"
     },
     "output_type": "display_data"
    }
   ],
   "source": [
    "fig = plt.figure(figsize=(4,4))\n",
    "\n",
    "ax = fig.add_subplot(111, projection='3d')\n",
    "for stream in new:\n",
    "    x,y,z=get_points(stream)\n",
    "    ax.plot(x,y,z)\n",
    "plt.show()"
   ]
  },
  {
   "cell_type": "code",
   "execution_count": 22,
   "id": "0ad1d3dc",
   "metadata": {},
   "outputs": [],
   "source": [
    "point=get_max_point_and_min_point(new)"
   ]
  },
  {
   "cell_type": "code",
   "execution_count": 23,
   "id": "9672f8cd",
   "metadata": {},
   "outputs": [
    {
     "data": {
      "text/plain": [
       "([122, 163, 97], [0, 0, 0])"
      ]
     },
     "execution_count": 23,
     "metadata": {},
     "output_type": "execute_result"
    }
   ],
   "source": [
    "point"
   ]
  },
  {
   "cell_type": "code",
   "execution_count": null,
   "id": "1d12906d",
   "metadata": {},
   "outputs": [],
   "source": []
  },
  {
   "cell_type": "code",
   "execution_count": null,
   "id": "b5e6076d",
   "metadata": {},
   "outputs": [],
   "source": [
    "\n",
    "import nibabel as nib\n",
    "\n",
    "ni_img = nib.Nifti1Image(data, affine=np.eye(4))\n",
    "nib.save(ni_img, \"dicom_volume_image.nii\")"
   ]
  },
  {
   "cell_type": "code",
   "execution_count": null,
   "id": "78c6d44c",
   "metadata": {},
   "outputs": [],
   "source": [
    "new_matrix = np.zeros(shape=(123, 164, 98),dtype=\"float\")"
   ]
  },
  {
   "cell_type": "code",
   "execution_count": null,
   "id": "b35d2fe2",
   "metadata": {},
   "outputs": [],
   "source": []
  },
  {
   "cell_type": "code",
   "execution_count": null,
   "id": "918219cd",
   "metadata": {},
   "outputs": [],
   "source": [
    "import random\n",
    "\n",
    "for stream in new:\n",
    "    for point in stream:\n",
    "        new_matrix[tuple(point)]=random.uniform(1, 2)\n",
    "    \n",
    "    "
   ]
  },
  {
   "cell_type": "code",
   "execution_count": null,
   "id": "186b44f8",
   "metadata": {},
   "outputs": [],
   "source": [
    "for stream in new:\n",
    "    for point in stream:\n",
    "        print(new_matrix[tuple(point)])"
   ]
  },
  {
   "cell_type": "code",
   "execution_count": null,
   "id": "87d0a36a",
   "metadata": {},
   "outputs": [],
   "source": [
    "random.uniform(1, 2)"
   ]
  },
  {
   "cell_type": "code",
   "execution_count": null,
   "id": "0c35a2cf",
   "metadata": {},
   "outputs": [],
   "source": [
    "new_matrix"
   ]
  },
  {
   "cell_type": "code",
   "execution_count": null,
   "id": "10c42aea",
   "metadata": {},
   "outputs": [],
   "source": [
    "import nibabel as nib\n",
    "\n",
    "ni_img = nib.Nifti1Image(new_matrix, affine=np.eye(4))\n",
    "nib.save(ni_img, \"dicom_volume_image_nuevo.nii\")"
   ]
  },
  {
   "cell_type": "code",
   "execution_count": null,
   "id": "21ee00bc",
   "metadata": {},
   "outputs": [],
   "source": []
  },
  {
   "cell_type": "code",
   "execution_count": null,
   "id": "087b4561",
   "metadata": {},
   "outputs": [],
   "source": []
  }
 ],
 "metadata": {
  "kernelspec": {
   "display_name": "Python 3 (ipykernel)",
   "language": "python",
   "name": "python3"
  },
  "language_info": {
   "codemirror_mode": {
    "name": "ipython",
    "version": 3
   },
   "file_extension": ".py",
   "mimetype": "text/x-python",
   "name": "python",
   "nbconvert_exporter": "python",
   "pygments_lexer": "ipython3",
   "version": "3.8.10"
  }
 },
 "nbformat": 4,
 "nbformat_minor": 5
}
