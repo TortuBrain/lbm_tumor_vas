{
 "cells": [
  {
   "cell_type": "code",
   "execution_count": 3,
   "id": "dramatic-detroit",
   "metadata": {},
   "outputs": [],
   "source": [
    "from dipy.io.stateful_tractogram import StatefulTractogram\n",
    "from dipy.io.streamline import load_tractogram\n",
    "\n",
    "import pandas as pd\n",
    "tracto = load_tractogram('data/data.trk', 'same', bbox_valid_check=False)\n",
    "streamlines = tracto.streamlines\n",
    "\n"
   ]
  },
  {
   "cell_type": "code",
   "execution_count": 4,
   "id": "novel-consolidation",
   "metadata": {},
   "outputs": [
    {
     "data": {
      "text/plain": [
       "array([[ -5.4625015 , -38.759087  ,   5.4196014 ],\n",
       "       [ -4.981247  , -38.629547  ,   5.4598007 ],\n",
       "       [ -4.5       , -38.5       ,   5.5       ],\n",
       "       [ -4.018753  , -38.370453  ,   5.5401993 ],\n",
       "       [ -3.5374985 , -38.240913  ,   5.5803986 ],\n",
       "       [ -3.0562515 , -38.111366  ,   5.620598  ],\n",
       "       [ -2.5627518 , -38.049385  ,   5.6717987 ],\n",
       "       [ -2.0692596 , -37.987396  ,   5.722992  ],\n",
       "       [ -1.5757599 , -37.925415  ,   5.774185  ],\n",
       "       [ -1.0822678 , -37.863434  ,   5.8253784 ],\n",
       "       [ -0.58877563, -37.801445  ,   5.8765793 ],\n",
       "       [ -0.08917999, -37.782173  ,   5.8707275 ],\n",
       "       [  0.41041565, -37.762894  ,   5.864876  ],\n",
       "       [  0.9100113 , -37.743614  ,   5.859024  ]], dtype=float32)"
      ]
     },
     "execution_count": 4,
     "metadata": {},
     "output_type": "execute_result"
    }
   ],
   "source": [
    "streamlines[0]"
   ]
  },
  {
   "cell_type": "code",
   "execution_count": 5,
   "id": "composed-contamination",
   "metadata": {},
   "outputs": [],
   "source": [
    "import numpy as np\n",
    "\n",
    "\n",
    "def euclidian_distance_two_points(point_a, point_b) -> float:\n",
    "    \"\"\"\n",
    "    Find the Euclidean distance between two points\n",
    "    d(x,y)lim_r->2(∑|x_k-y_k|^r)^(1/r)\n",
    "    Parameters\n",
    "    ----------\n",
    "    point_a : int\n",
    "        Starting point\n",
    "    point_b : int\n",
    "        End point\n",
    "    Returns\n",
    "    -------\n",
    "    float\n",
    "        The distance between two points\n",
    "    \"\"\"\n",
    "    distance = np.linalg.norm(point_a - point_b)\n",
    "    return distance\n",
    "\n",
    "\n",
    "def distance_points_array(points) -> float:\n",
    "    \"\"\"\n",
    "    Euclidean distance between a list of points\n",
    "    Parameters\n",
    "    ----------\n",
    "    points : array\n",
    "        A list of points in 3D\n",
    "    Returns\n",
    "    -------\n",
    "    float\n",
    "        The distance between all points in the array\n",
    "    \"\"\"\n",
    "    distance = 0\n",
    "    for position_point in range(len(points) - 1):\n",
    "        distance += euclidian_distance_two_points(\n",
    "            points[position_point], points[position_point + 1]\n",
    "        )\n",
    "    return distance\n",
    "\n",
    "\n",
    "def tortuosity_geometric_streamline(streamline_points) -> float:\n",
    "    \"\"\"\n",
    "    Geometric tortuosity of a streamline\n",
    "        π=distance_points_array/distance_across\n",
    "    Parameters\n",
    "    ----------\n",
    "    streamline_points : array\n",
    "        A array of points belonging to a streamline\n",
    "    Returns\n",
    "    -------\n",
    "    float\n",
    "        Geometric tortuosity of a streamline\n",
    "    \"\"\"\n",
    "    distance_across = euclidian_distance_two_points(\n",
    "        streamline_points[0], streamline_points[-1]\n",
    "    )\n",
    "    return distance_points_array(streamline_points) / distance_across\n",
    "\n",
    "\n",
    "def _print_result_tau(value_tau) -> None:\n",
    "    \"\"\"\n",
    "    Print the result of the geometric tortuosity\n",
    "    \"\"\"\n",
    "    print(f'Results\\n{\"=\"*10}\\ntortuosity:{value_tau}')\n",
    "\n",
    "\n",
    "def tortuosity_geometric(streamlines, output=\"steam_tg.csv\") -> float:\n",
    "    \"\"\"\n",
    "    Geometric tortuosity a list of streamlines.\n",
    "    It is the average of the geometric tortuosity for each streamline\n",
    "        π=∑tortuosity_geometric_streamline_i/lenght(streamlines)\n",
    "\n",
    "    Parameters\n",
    "    ----------\n",
    "    streamlines : array\n",
    "        A list of streamlines\n",
    "    Returns\n",
    "    -------\n",
    "    float\n",
    "        Average geometric tortuosity of all streamlines\n",
    "    \"\"\"\n",
    "    file = open(\"steam_tg.csv\", \"w\")\n",
    "    file.write(\"stream_length,tau \\n\")\n",
    "    length_streamlines = len(streamlines)\n",
    "    if length_streamlines > 1:\n",
    "        tau_geometric = 0\n",
    "        number = 0\n",
    "        for streamline in streamlines:\n",
    "            if streamline.shape[0] > 1:\n",
    "                tau = tortuosity_geometric_streamline(streamline)\n",
    "                tau_geometric += tau\n",
    "                file.write(f\"{streamline.size/3},{tau} \\n\")\n",
    "                number += 1\n",
    "        tau_final = tau_geometric / length_streamlines\n",
    "        _print_result_tau(tau_final)\n",
    "        return tau_final\n",
    "    return 0.0"
   ]
  },
  {
   "cell_type": "code",
   "execution_count": 7,
   "id": "acoustic-robin",
   "metadata": {},
   "outputs": [],
   "source": [
    "line1=streamlines[0]"
   ]
  },
  {
   "cell_type": "code",
   "execution_count": 35,
   "id": "finite-mining",
   "metadata": {},
   "outputs": [],
   "source": [
    "\n",
    "def distance_points_array(points):\n",
    "    points_reverse=points[::-1]\n",
    "    number_section=math.floor(line1.shape[0]*0.25)\n",
    "    onward=[points[i:i+number_section] for i in range(0,len(points),number_section)]\n",
    "    backward=[points_reverse[i:i+number_section] for i in range(0,len(points_reverse),number_section)]\n",
    "   \n",
    "    tau_onward=[]\n",
    "    tau_backward=[]\n",
    "    \n",
    "   \"\"\"\n",
    "    for position_point in range(len(onward) - 1):\n",
    "         tau_onward.append(euclidian_distance_two_points(\n",
    "            onward[position_point], onward[position_point + 1]))\n",
    "            \n",
    "         tau_backward.append(euclidian_distance_two_points(\n",
    "            backward[position_point], backward[position_point + 1]))\n",
    "    \n",
    "   \"\"\n",
    "    \n",
    "\n",
    "    return tau_onward, tau_backward"
   ]
  },
  {
   "cell_type": "code",
   "execution_count": 36,
   "id": "behind-leave",
   "metadata": {},
   "outputs": [
    {
     "ename": "ValueError",
     "evalue": "operands could not be broadcast together with shapes (3,3) (2,3) ",
     "output_type": "error",
     "traceback": [
      "\u001b[0;31m---------------------------------------------------------------------------\u001b[0m",
      "\u001b[0;31mValueError\u001b[0m                                Traceback (most recent call last)",
      "\u001b[0;32m<ipython-input-36-f8e608472135>\u001b[0m in \u001b[0;36m<module>\u001b[0;34m\u001b[0m\n\u001b[0;32m----> 1\u001b[0;31m \u001b[0mx\u001b[0m\u001b[0;34m,\u001b[0m\u001b[0my\u001b[0m\u001b[0;34m=\u001b[0m\u001b[0mdistance_points_array\u001b[0m\u001b[0;34m(\u001b[0m\u001b[0mline1\u001b[0m\u001b[0;34m)\u001b[0m\u001b[0;34m\u001b[0m\u001b[0;34m\u001b[0m\u001b[0m\n\u001b[0m",
      "\u001b[0;32m<ipython-input-35-700896173aec>\u001b[0m in \u001b[0;36mdistance_points_array\u001b[0;34m(points)\u001b[0m\n\u001b[1;32m     11\u001b[0m     \u001b[0;32mfor\u001b[0m \u001b[0mposition_point\u001b[0m \u001b[0;32min\u001b[0m \u001b[0mrange\u001b[0m\u001b[0;34m(\u001b[0m\u001b[0mlen\u001b[0m\u001b[0;34m(\u001b[0m\u001b[0monward\u001b[0m\u001b[0;34m)\u001b[0m \u001b[0;34m-\u001b[0m \u001b[0;36m1\u001b[0m\u001b[0;34m)\u001b[0m\u001b[0;34m:\u001b[0m\u001b[0;34m\u001b[0m\u001b[0;34m\u001b[0m\u001b[0m\n\u001b[1;32m     12\u001b[0m          tau_onward.append(euclidian_distance_two_points(\n\u001b[0;32m---> 13\u001b[0;31m             onward[position_point], onward[position_point + 1]))\n\u001b[0m\u001b[1;32m     14\u001b[0m \u001b[0;34m\u001b[0m\u001b[0m\n\u001b[1;32m     15\u001b[0m          tau_backward.append(euclidian_distance_two_points(\n",
      "\u001b[0;32m<ipython-input-5-ad7748ec8d81>\u001b[0m in \u001b[0;36meuclidian_distance_two_points\u001b[0;34m(point_a, point_b)\u001b[0m\n\u001b[1;32m     17\u001b[0m         \u001b[0mThe\u001b[0m \u001b[0mdistance\u001b[0m \u001b[0mbetween\u001b[0m \u001b[0mtwo\u001b[0m \u001b[0mpoints\u001b[0m\u001b[0;34m\u001b[0m\u001b[0;34m\u001b[0m\u001b[0m\n\u001b[1;32m     18\u001b[0m     \"\"\"\n\u001b[0;32m---> 19\u001b[0;31m     \u001b[0mdistance\u001b[0m \u001b[0;34m=\u001b[0m \u001b[0mnp\u001b[0m\u001b[0;34m.\u001b[0m\u001b[0mlinalg\u001b[0m\u001b[0;34m.\u001b[0m\u001b[0mnorm\u001b[0m\u001b[0;34m(\u001b[0m\u001b[0mpoint_a\u001b[0m \u001b[0;34m-\u001b[0m \u001b[0mpoint_b\u001b[0m\u001b[0;34m)\u001b[0m\u001b[0;34m\u001b[0m\u001b[0;34m\u001b[0m\u001b[0m\n\u001b[0m\u001b[1;32m     20\u001b[0m     \u001b[0;32mreturn\u001b[0m \u001b[0mdistance\u001b[0m\u001b[0;34m\u001b[0m\u001b[0;34m\u001b[0m\u001b[0m\n\u001b[1;32m     21\u001b[0m \u001b[0;34m\u001b[0m\u001b[0m\n",
      "\u001b[0;31mValueError\u001b[0m: operands could not be broadcast together with shapes (3,3) (2,3) "
     ]
    }
   ],
   "source": [
    "x,y=distance_points_array(line1)"
   ]
  },
  {
   "cell_type": "code",
   "execution_count": 31,
   "id": "flying-final",
   "metadata": {},
   "outputs": [
    {
     "data": {
      "text/plain": [
       "[array([[ -5.4625015, -38.759087 ,   5.4196014],\n",
       "        [ -4.981247 , -38.629547 ,   5.4598007],\n",
       "        [ -4.5      , -38.5      ,   5.5      ]], dtype=float32),\n",
       " array([[ -4.018753 , -38.370453 ,   5.5401993],\n",
       "        [ -3.5374985, -38.240913 ,   5.5803986],\n",
       "        [ -3.0562515, -38.111366 ,   5.620598 ]], dtype=float32),\n",
       " array([[ -2.5627518, -38.049385 ,   5.6717987],\n",
       "        [ -2.0692596, -37.987396 ,   5.722992 ],\n",
       "        [ -1.5757599, -37.925415 ,   5.774185 ]], dtype=float32),\n",
       " array([[ -1.0822678 , -37.863434  ,   5.8253784 ],\n",
       "        [ -0.58877563, -37.801445  ,   5.8765793 ],\n",
       "        [ -0.08917999, -37.782173  ,   5.8707275 ]], dtype=float32),\n",
       " array([[  0.41041565, -37.762894  ,   5.864876  ],\n",
       "        [  0.9100113 , -37.743614  ,   5.859024  ]], dtype=float32)]"
      ]
     },
     "execution_count": 31,
     "metadata": {},
     "output_type": "execute_result"
    }
   ],
   "source": [
    "x\n"
   ]
  },
  {
   "cell_type": "code",
   "execution_count": 32,
   "id": "dated-breakdown",
   "metadata": {},
   "outputs": [
    {
     "data": {
      "text/plain": [
       "[array([[  0.9100113 , -37.743614  ,   5.859024  ],\n",
       "        [  0.41041565, -37.762894  ,   5.864876  ],\n",
       "        [ -0.08917999, -37.782173  ,   5.8707275 ]], dtype=float32),\n",
       " array([[ -0.58877563, -37.801445  ,   5.8765793 ],\n",
       "        [ -1.0822678 , -37.863434  ,   5.8253784 ],\n",
       "        [ -1.5757599 , -37.925415  ,   5.774185  ]], dtype=float32),\n",
       " array([[ -2.0692596, -37.987396 ,   5.722992 ],\n",
       "        [ -2.5627518, -38.049385 ,   5.6717987],\n",
       "        [ -3.0562515, -38.111366 ,   5.620598 ]], dtype=float32),\n",
       " array([[ -3.5374985, -38.240913 ,   5.5803986],\n",
       "        [ -4.018753 , -38.370453 ,   5.5401993],\n",
       "        [ -4.5      , -38.5      ,   5.5      ]], dtype=float32),\n",
       " array([[ -4.981247 , -38.629547 ,   5.4598007],\n",
       "        [ -5.4625015, -38.759087 ,   5.4196014]], dtype=float32)]"
      ]
     },
     "execution_count": 32,
     "metadata": {},
     "output_type": "execute_result"
    }
   ],
   "source": [
    "y"
   ]
  },
  {
   "cell_type": "code",
   "execution_count": null,
   "id": "embedded-return",
   "metadata": {},
   "outputs": [],
   "source": []
  }
 ],
 "metadata": {
  "kernelspec": {
   "display_name": "Python 3",
   "language": "python",
   "name": "python3"
  },
  "language_info": {
   "codemirror_mode": {
    "name": "ipython",
    "version": 3
   },
   "file_extension": ".py",
   "mimetype": "text/x-python",
   "name": "python",
   "nbconvert_exporter": "python",
   "pygments_lexer": "ipython3",
   "version": "3.7.9"
  }
 },
 "nbformat": 4,
 "nbformat_minor": 5
}
